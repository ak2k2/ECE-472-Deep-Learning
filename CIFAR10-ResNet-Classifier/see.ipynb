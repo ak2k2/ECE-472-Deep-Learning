{
 "cells": [
  {
   "cell_type": "code",
   "execution_count": 1,
   "metadata": {},
   "outputs": [],
   "source": [
    "import os\n",
    "\n",
    "import matplotlib.image as mpimg\n",
    "import matplotlib.pyplot as plt\n",
    "import numpy as np\n",
    "import pandas as pd\n",
    "from read_cifar10 import get_cifar_10"
   ]
  },
  {
   "cell_type": "code",
   "execution_count": 2,
   "metadata": {},
   "outputs": [],
   "source": [
    "def create_dataframe_with_labels(cifar_data, meta_data, batch_type=\"train\"):\n",
    "    images = []\n",
    "    labels = []\n",
    "    label_names = []\n",
    "\n",
    "    # Extract label names from meta data\n",
    "    label_names_dict = {\n",
    "        i: name.decode(\"utf-8\") for i, name in enumerate(meta_data[b\"label_names\"])\n",
    "    }\n",
    "\n",
    "    # Function to process a single batch of data\n",
    "    def process_batch(batch):\n",
    "        for i in range(len(batch[b\"data\"])):\n",
    "            image_flat = batch[b\"data\"][i]\n",
    "            image_red = image_flat[:1024].reshape(32, 32)\n",
    "            image_green = image_flat[1024:2048].reshape(32, 32)\n",
    "            image_blue = image_flat[2048:].reshape(32, 32)\n",
    "            image_reshaped = np.dstack((image_red, image_green, image_blue))\n",
    "            images.append(image_reshaped)\n",
    "\n",
    "            label = batch[b\"labels\"][i]\n",
    "            labels.append(label)\n",
    "            label_names.append(label_names_dict[label])\n",
    "\n",
    "    # Process data based on batch type\n",
    "    if batch_type == \"train\":\n",
    "        for batch in cifar_data[batch_type]:\n",
    "            process_batch(batch)\n",
    "    else:  # For test data\n",
    "        process_batch(cifar_data[batch_type])\n",
    "\n",
    "    return pd.DataFrame({\"image\": images, \"label\": labels, \"label_name\": label_names})\n",
    "\n",
    "\n",
    "def display_image_from_df(df, index):\n",
    "    \"\"\"\n",
    "    Display an image from the DataFrame.\n",
    "\n",
    "    Args:\n",
    "    df (pd.DataFrame): DataFrame containing the CIFAR-10 data.\n",
    "    index (int): Index of the image to be displayed.\n",
    "    \"\"\"\n",
    "    # Extract and display the image data directly from the DataFrame\n",
    "    image_data = df.iloc[index][\"image\"]\n",
    "\n",
    "    # Display the image\n",
    "    plt.imshow(image_data, interpolation=\"nearest\")\n",
    "    plt.title(f\"Label: {df.iloc[index]['label_name']}\")\n",
    "    plt.axis(\"off\")  # Turn off axis numbers\n",
    "    plt.show()"
   ]
  },
  {
   "cell_type": "code",
   "execution_count": 3,
   "metadata": {},
   "outputs": [],
   "source": [
    "cifar_10 = get_cifar_10()\n",
    "train = create_dataframe_with_labels(cifar_10, cifar_10['meta'], batch_type=\"train\")\n",
    "test = create_dataframe_with_labels(cifar_10, cifar_10['meta'], batch_type=\"test\")"
   ]
  },
  {
   "cell_type": "code",
   "execution_count": 6,
   "metadata": {},
   "outputs": [
    {
     "data": {
      "text/plain": [
       "numpy.int64"
      ]
     },
     "execution_count": 6,
     "metadata": {},
     "output_type": "execute_result"
    }
   ],
   "source": [
    "type(train['label'][0])"
   ]
  },
  {
   "cell_type": "code",
   "execution_count": 22,
   "metadata": {},
   "outputs": [
    {
     "data": {
      "text/html": [
       "<div>\n",
       "<style scoped>\n",
       "    .dataframe tbody tr th:only-of-type {\n",
       "        vertical-align: middle;\n",
       "    }\n",
       "\n",
       "    .dataframe tbody tr th {\n",
       "        vertical-align: top;\n",
       "    }\n",
       "\n",
       "    .dataframe thead th {\n",
       "        text-align: right;\n",
       "    }\n",
       "</style>\n",
       "<table border=\"1\" class=\"dataframe\">\n",
       "  <thead>\n",
       "    <tr style=\"text-align: right;\">\n",
       "      <th></th>\n",
       "      <th>image</th>\n",
       "      <th>label</th>\n",
       "      <th>label_name</th>\n",
       "    </tr>\n",
       "  </thead>\n",
       "  <tbody>\n",
       "    <tr>\n",
       "      <th>0</th>\n",
       "      <td>[[[59, 62, 63], [43, 46, 45], [50, 48, 43], [6...</td>\n",
       "      <td>6</td>\n",
       "      <td>frog</td>\n",
       "    </tr>\n",
       "    <tr>\n",
       "      <th>1</th>\n",
       "      <td>[[[154, 177, 187], [126, 137, 136], [105, 104,...</td>\n",
       "      <td>9</td>\n",
       "      <td>truck</td>\n",
       "    </tr>\n",
       "    <tr>\n",
       "      <th>2</th>\n",
       "      <td>[[[255, 255, 255], [253, 253, 253], [253, 253,...</td>\n",
       "      <td>9</td>\n",
       "      <td>truck</td>\n",
       "    </tr>\n",
       "    <tr>\n",
       "      <th>3</th>\n",
       "      <td>[[[28, 25, 10], [37, 34, 19], [38, 35, 20], [4...</td>\n",
       "      <td>4</td>\n",
       "      <td>deer</td>\n",
       "    </tr>\n",
       "    <tr>\n",
       "      <th>4</th>\n",
       "      <td>[[[170, 180, 198], [168, 178, 196], [177, 185,...</td>\n",
       "      <td>1</td>\n",
       "      <td>automobile</td>\n",
       "    </tr>\n",
       "  </tbody>\n",
       "</table>\n",
       "</div>"
      ],
      "text/plain": [
       "                                               image  label  label_name\n",
       "0  [[[59, 62, 63], [43, 46, 45], [50, 48, 43], [6...      6        frog\n",
       "1  [[[154, 177, 187], [126, 137, 136], [105, 104,...      9       truck\n",
       "2  [[[255, 255, 255], [253, 253, 253], [253, 253,...      9       truck\n",
       "3  [[[28, 25, 10], [37, 34, 19], [38, 35, 20], [4...      4        deer\n",
       "4  [[[170, 180, 198], [168, 178, 196], [177, 185,...      1  automobile"
      ]
     },
     "execution_count": 22,
     "metadata": {},
     "output_type": "execute_result"
    }
   ],
   "source": [
    "train.head()"
   ]
  },
  {
   "cell_type": "code",
   "execution_count": 26,
   "metadata": {},
   "outputs": [
    {
     "data": {
      "image/png": "[encoded data removed]",
      "text/plain": [
       "<Figure size 640x480 with 1 Axes>"
      ]
     },
     "metadata": {},
     "output_type": "display_data"
    }
   ],
   "source": [
    "display_image_from_df(test, np.random.randint(10, len(test)))"
   ]
  },
  {
   "cell_type": "code",
   "execution_count": null,
   "metadata": {},
   "outputs": [],
   "source": []
  }
 ],
 "metadata": {
  "kernelspec": {
   "display_name": ".virtualenvs",
   "language": "python",
   "name": "python3"
  },
  "language_info": {
   "codemirror_mode": {
    "name": "ipython",
    "version": 3
   },
   "file_extension": ".py",
   "mimetype": "text/x-python",
   "name": "python",
   "nbconvert_exporter": "python",
   "pygments_lexer": "ipython3",
   "version": "3.10.13"
  },
  "orig_nbformat": 4
 },
 "nbformat": 4,
 "nbformat_minor": 2
}

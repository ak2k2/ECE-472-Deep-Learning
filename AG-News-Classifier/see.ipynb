{
 "cells": [
  {
   "cell_type": "code",
   "execution_count": 39,
   "metadata": {},
   "outputs": [],
   "source": [
    "from load_ag_news_dataset.read_ag_news_data import load_ag_dataframes\n",
    "\n",
    "test_df, train_df = load_ag_dataframes()"
   ]
  },
  {
   "cell_type": "code",
   "execution_count": 40,
   "metadata": {},
   "outputs": [
    {
     "name": "stdout",
     "output_type": "stream",
     "text": [
      "Train data shape:  (120000, 2)\n",
      "Test data shape:  (7600, 2)\n"
     ]
    }
   ],
   "source": [
    "print(\"Train data shape: \", train_df.shape)\n",
    "print(\"Test data shape: \", test_df.shape)"
   ]
  },
  {
   "cell_type": "code",
   "execution_count": 1,
   "metadata": {},
   "outputs": [],
   "source": [
    "from embedding_ag_news.get_embedded_data import read_ag_news_data\n",
    "\n",
    "df1, df2 = read_ag_news_data()"
   ]
  },
  {
   "cell_type": "code",
   "execution_count": 5,
   "metadata": {},
   "outputs": [
    {
     "data": {
      "text/html": [
       "<div>\n",
       "<style scoped>\n",
       "    .dataframe tbody tr th:only-of-type {\n",
       "        vertical-align: middle;\n",
       "    }\n",
       "\n",
       "    .dataframe tbody tr th {\n",
       "        vertical-align: top;\n",
       "    }\n",
       "\n",
       "    .dataframe thead th {\n",
       "        text-align: right;\n",
       "    }\n",
       "</style>\n",
       "<table border=\"1\" class=\"dataframe\">\n",
       "  <thead>\n",
       "    <tr style=\"text-align: right;\">\n",
       "      <th></th>\n",
       "      <th>text</th>\n",
       "      <th>label</th>\n",
       "      <th>embedding</th>\n",
       "    </tr>\n",
       "  </thead>\n",
       "  <tbody>\n",
       "    <tr>\n",
       "      <th>52665</th>\n",
       "      <td>Car Bombing Kills 39 at Pakistan Religious Ral...</td>\n",
       "      <td>0</td>\n",
       "      <td>[-0.023637447506189346, -0.001198658486828208,...</td>\n",
       "    </tr>\n",
       "    <tr>\n",
       "      <th>31200</th>\n",
       "      <td>Bush author says White House applying pressure...</td>\n",
       "      <td>0</td>\n",
       "      <td>[-0.03805694356560707, -0.008408239111304283, ...</td>\n",
       "    </tr>\n",
       "    <tr>\n",
       "      <th>57059</th>\n",
       "      <td>Socceroos #39; Kewell edge SOCCEROOS coach Fra...</td>\n",
       "      <td>1</td>\n",
       "      <td>[0.01333413366228342, 0.005028892308473587, 0....</td>\n",
       "    </tr>\n",
       "    <tr>\n",
       "      <th>60274</th>\n",
       "      <td>Decision looms on high-speed access aloft (USA...</td>\n",
       "      <td>3</td>\n",
       "      <td>[0.008726326748728752, -0.003338022157549858, ...</td>\n",
       "    </tr>\n",
       "    <tr>\n",
       "      <th>57864</th>\n",
       "      <td>Technology is seen as revolutionary step in te...</td>\n",
       "      <td>3</td>\n",
       "      <td>[0.004110241774469614, 0.0013342452002689242, ...</td>\n",
       "    </tr>\n",
       "  </tbody>\n",
       "</table>\n",
       "</div>"
      ],
      "text/plain": [
       "                                                    text  label  \\\n",
       "52665  Car Bombing Kills 39 at Pakistan Religious Ral...      0   \n",
       "31200  Bush author says White House applying pressure...      0   \n",
       "57059  Socceroos #39; Kewell edge SOCCEROOS coach Fra...      1   \n",
       "60274  Decision looms on high-speed access aloft (USA...      3   \n",
       "57864  Technology is seen as revolutionary step in te...      3   \n",
       "\n",
       "                                               embedding  \n",
       "52665  [-0.023637447506189346, -0.001198658486828208,...  \n",
       "31200  [-0.03805694356560707, -0.008408239111304283, ...  \n",
       "57059  [0.01333413366228342, 0.005028892308473587, 0....  \n",
       "60274  [0.008726326748728752, -0.003338022157549858, ...  \n",
       "57864  [0.004110241774469614, 0.0013342452002689242, ...  "
      ]
     },
     "execution_count": 5,
     "metadata": {},
     "output_type": "execute_result"
    }
   ],
   "source": [
    "df1.head()"
   ]
  }
 ],
 "metadata": {
  "kernelspec": {
   "display_name": ".virtualenvs",
   "language": "python",
   "name": "python3"
  },
  "language_info": {
   "codemirror_mode": {
    "name": "ipython",
    "version": 3
   },
   "file_extension": ".py",
   "mimetype": "text/x-python",
   "name": "python",
   "nbconvert_exporter": "python",
   "pygments_lexer": "ipython3",
   "version": "3.10.12"
  }
 },
 "nbformat": 4,
 "nbformat_minor": 2
}
